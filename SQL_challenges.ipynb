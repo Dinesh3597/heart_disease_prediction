{
 "cells": [
  {
   "cell_type": "markdown",
   "metadata": {},
   "source": [
    ">Get your hands dirty with SQL.\n",
    "\n",
    "You will use only SQL queries for this.\n",
    "\n",
    " * Using the same tennis data, find the number of matches played by\n",
    "   each player in each tournament (remember that a player can be\n",
    "   present as both player1 or player2)\n",
    "\n",
    "* Who has played the most matches total in all of US Open, AUST Open,\n",
    "  French Open? Answer this both for men and women.\n",
    "\n",
    "* Who has the highest first serve percentage? (Just the maximum value\n",
    "  in a single match)\n",
    "\n",
    "* What are the unforced error percentages of the top three players\n",
    "  with the most wins? (unforced error percentage is % of points lost\n",
    "  due to unforced errors. In a match, you have fields for number of\n",
    "  points won by each player, and number of unforced errors for each\n",
    "  field).\n",
    "\n",
    "> A note: `SUM(double_faults)` sums the contents of an entire column.\n",
    "> If, for each row, you want to add the field values from two columns,\n",
    "> you can just do `SELECT name, double_faults + unforced_errors`\n",
    "\n"
   ]
  },
  {
   "cell_type": "code",
   "execution_count": null,
   "metadata": {
    "collapsed": true
   },
   "outputs": [],
   "source": []
  }
 ],
 "metadata": {
  "kernelspec": {
   "display_name": "Python 2",
   "language": "python",
   "name": "python2"
  },
  "language_info": {
   "codemirror_mode": {
    "name": "ipython",
    "version": 2
   },
   "file_extension": ".py",
   "mimetype": "text/x-python",
   "name": "python",
   "nbconvert_exporter": "python",
   "pygments_lexer": "ipython2",
   "version": "2.7.9"
  }
 },
 "nbformat": 4,
 "nbformat_minor": 0
}
