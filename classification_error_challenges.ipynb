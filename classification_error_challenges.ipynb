{
 "cells": [
  {
   "cell_type": "markdown",
   "metadata": {},
   "source": [
    "#### Challenge 1\n",
    "\n",
    "For the house representatives data set, calculate the accuracy, precision, recall and f1 scores of each classifier you built (on the test set)."
   ]
  },
  {
   "cell_type": "code",
   "execution_count": 1,
   "metadata": {
    "collapsed": true
   },
   "outputs": [],
   "source": [
    "import pandas as pd\n",
    "import numpy as np\n",
    "from sklearn.cross_validation import train_test_split\n",
    "from sklearn.neighbors import KNeighborsClassifier\n",
    "from sklearn.linear_model import LogisticRegression\n",
    "from sklearn.naive_bayes import GaussianNB\n",
    "from sklearn.svm import SVC\n",
    "from sklearn.tree import DecisionTreeClassifier\n",
    "from sklearn.ensemble import RandomForestClassifier\n",
    "from sklearn.metrics import accuracy_score\n",
    "from sklearn.metrics import precision_score\n",
    "from sklearn.metrics import recall_score\n",
    "from sklearn.metrics import f1_score\n",
    "\n",
    "%matplotlib inline \n",
    "import matplotlib.pyplot as plt"
   ]
  },
  {
   "cell_type": "code",
   "execution_count": 203,
   "metadata": {
    "collapsed": true
   },
   "outputs": [],
   "source": [
    "df = pd.DataFrame.from_csv('house-votes-84.data.txt', header=-1, infer_datetime_format=True)\n",
    "df.replace(['y','n'], [1,0], inplace=True)\n",
    "df = df.convert_objects(convert_numeric=True)\n",
    "df = df.fillna(df.mean())\n",
    "df_train, df_test = train_test_split(df, test_size=0.33, random_state=42)"
   ]
  },
  {
   "cell_type": "code",
   "execution_count": 229,
   "metadata": {
    "collapsed": true
   },
   "outputs": [],
   "source": [
    "def all_dems(voting_matrix):\n",
    "    return pd.Series(['democrat'] * len(voting_matrix))\n",
    "def all_reps(voting_matrix):\n",
    "    return pd.Series(['republican'] * len(voting_matrix))"
   ]
  },
  {
   "cell_type": "code",
   "execution_count": 4,
   "metadata": {
    "collapsed": false
   },
   "outputs": [
    {
     "data": {
      "text/html": [
       "<div style=\"max-height:1000px;max-width:1500px;overflow:auto;\">\n",
       "<table border=\"1\" class=\"dataframe\">\n",
       "  <thead>\n",
       "    <tr style=\"text-align: right;\">\n",
       "      <th></th>\n",
       "      <th>1</th>\n",
       "      <th>2</th>\n",
       "      <th>3</th>\n",
       "      <th>4</th>\n",
       "      <th>5</th>\n",
       "      <th>6</th>\n",
       "      <th>7</th>\n",
       "      <th>8</th>\n",
       "      <th>9</th>\n",
       "      <th>10</th>\n",
       "      <th>11</th>\n",
       "      <th>12</th>\n",
       "      <th>13</th>\n",
       "      <th>14</th>\n",
       "      <th>15</th>\n",
       "      <th>16</th>\n",
       "    </tr>\n",
       "    <tr>\n",
       "      <th>0</th>\n",
       "      <th></th>\n",
       "      <th></th>\n",
       "      <th></th>\n",
       "      <th></th>\n",
       "      <th></th>\n",
       "      <th></th>\n",
       "      <th></th>\n",
       "      <th></th>\n",
       "      <th></th>\n",
       "      <th></th>\n",
       "      <th></th>\n",
       "      <th></th>\n",
       "      <th></th>\n",
       "      <th></th>\n",
       "      <th></th>\n",
       "      <th></th>\n",
       "    </tr>\n",
       "  </thead>\n",
       "  <tbody>\n",
       "    <tr>\n",
       "      <th>republican</th>\n",
       "      <td>0.00000</td>\n",
       "      <td>1</td>\n",
       "      <td>0</td>\n",
       "      <td>1.000000</td>\n",
       "      <td>1.000000</td>\n",
       "      <td>1</td>\n",
       "      <td>0</td>\n",
       "      <td>0</td>\n",
       "      <td>0</td>\n",
       "      <td>1</td>\n",
       "      <td>0.362319</td>\n",
       "      <td>1.000000</td>\n",
       "      <td>1</td>\n",
       "      <td>1</td>\n",
       "      <td>0</td>\n",
       "      <td>1.000000</td>\n",
       "    </tr>\n",
       "    <tr>\n",
       "      <th>republican</th>\n",
       "      <td>0.00000</td>\n",
       "      <td>1</td>\n",
       "      <td>0</td>\n",
       "      <td>1.000000</td>\n",
       "      <td>1.000000</td>\n",
       "      <td>1</td>\n",
       "      <td>0</td>\n",
       "      <td>0</td>\n",
       "      <td>0</td>\n",
       "      <td>0</td>\n",
       "      <td>0.000000</td>\n",
       "      <td>1.000000</td>\n",
       "      <td>1</td>\n",
       "      <td>1</td>\n",
       "      <td>0</td>\n",
       "      <td>0.812689</td>\n",
       "    </tr>\n",
       "    <tr>\n",
       "      <th>democrat</th>\n",
       "      <td>0.44208</td>\n",
       "      <td>1</td>\n",
       "      <td>1</td>\n",
       "      <td>0.417453</td>\n",
       "      <td>1.000000</td>\n",
       "      <td>1</td>\n",
       "      <td>0</td>\n",
       "      <td>0</td>\n",
       "      <td>0</td>\n",
       "      <td>0</td>\n",
       "      <td>1.000000</td>\n",
       "      <td>0.000000</td>\n",
       "      <td>1</td>\n",
       "      <td>1</td>\n",
       "      <td>0</td>\n",
       "      <td>0.000000</td>\n",
       "    </tr>\n",
       "    <tr>\n",
       "      <th>democrat</th>\n",
       "      <td>0.00000</td>\n",
       "      <td>1</td>\n",
       "      <td>1</td>\n",
       "      <td>0.000000</td>\n",
       "      <td>0.504762</td>\n",
       "      <td>1</td>\n",
       "      <td>0</td>\n",
       "      <td>0</td>\n",
       "      <td>0</td>\n",
       "      <td>0</td>\n",
       "      <td>1.000000</td>\n",
       "      <td>0.000000</td>\n",
       "      <td>1</td>\n",
       "      <td>0</td>\n",
       "      <td>0</td>\n",
       "      <td>1.000000</td>\n",
       "    </tr>\n",
       "    <tr>\n",
       "      <th>democrat</th>\n",
       "      <td>1.00000</td>\n",
       "      <td>1</td>\n",
       "      <td>1</td>\n",
       "      <td>0.000000</td>\n",
       "      <td>1.000000</td>\n",
       "      <td>1</td>\n",
       "      <td>0</td>\n",
       "      <td>0</td>\n",
       "      <td>0</td>\n",
       "      <td>0</td>\n",
       "      <td>1.000000</td>\n",
       "      <td>0.423267</td>\n",
       "      <td>1</td>\n",
       "      <td>1</td>\n",
       "      <td>1</td>\n",
       "      <td>1.000000</td>\n",
       "    </tr>\n",
       "  </tbody>\n",
       "</table>\n",
       "</div>"
      ],
      "text/plain": [
       "                 1   2   3         4         5   6   7   8   9   10        11  \\\n",
       "0                                                                               \n",
       "republican  0.00000   1   0  1.000000  1.000000   1   0   0   0   1  0.362319   \n",
       "republican  0.00000   1   0  1.000000  1.000000   1   0   0   0   0  0.000000   \n",
       "democrat    0.44208   1   1  0.417453  1.000000   1   0   0   0   0  1.000000   \n",
       "democrat    0.00000   1   1  0.000000  0.504762   1   0   0   0   0  1.000000   \n",
       "democrat    1.00000   1   1  0.000000  1.000000   1   0   0   0   0  1.000000   \n",
       "\n",
       "                  12  13  14  15        16  \n",
       "0                                           \n",
       "republican  1.000000   1   1   0  1.000000  \n",
       "republican  1.000000   1   1   0  0.812689  \n",
       "democrat    0.000000   1   1   0  0.000000  \n",
       "democrat    0.000000   1   0   0  1.000000  \n",
       "democrat    0.423267   1   1   1  1.000000  "
      ]
     },
     "execution_count": 4,
     "metadata": {},
     "output_type": "execute_result"
    }
   ],
   "source": [
    "df.head()"
   ]
  },
  {
   "cell_type": "code",
   "execution_count": 167,
   "metadata": {
    "collapsed": false
   },
   "outputs": [
    {
     "name": "stdout",
     "output_type": "stream",
     "text": [
      "0.951388888889\n",
      "0.95\n",
      "0.979381443299\n",
      "0.964467005076\n"
     ]
    }
   ],
   "source": [
    "neigh = KNeighborsClassifier(n_neighbors=3)\n",
    "neigh.fit(df_train.values, df_train.index)\n",
    "test_results = neigh.predict(df_test.values)\n",
    "print accuracy_score(df_test.index, test_results)\n",
    "print precision_score(df_test.index, test_results, average='binary', pos_label='democrat')\n",
    "print recall_score(df_test.index, test_results, pos_label='democrat')\n",
    "print f1_score(df_test.index, test_results, pos_label='democrat')"
   ]
  },
  {
   "cell_type": "code",
   "execution_count": 27,
   "metadata": {
    "collapsed": false
   },
   "outputs": [
    {
     "name": "stdout",
     "output_type": "stream",
     "text": [
      "0.972222222222\n",
      "0.979381443299\n",
      "0.979381443299\n",
      "0.979381443299\n"
     ]
    }
   ],
   "source": [
    "logistic_reg = LogisticRegression()\n",
    "logistic_reg.fit(df_train.values, df_train.index)\n",
    "logistic_test_results = logistic_reg.predict(df_test.values)\n",
    "print accuracy_score(df_test.index, logistic_test_results)\n",
    "print precision_score(df_test.index, logistic_test_results, average='binary', pos_label='democrat')\n",
    "print recall_score(df_test.index, logistic_test_results, pos_label='democrat')\n",
    "print f1_score(df_test.index, logistic_test_results, pos_label='democrat')"
   ]
  },
  {
   "cell_type": "code",
   "execution_count": 28,
   "metadata": {
    "collapsed": false
   },
   "outputs": [
    {
     "name": "stdout",
     "output_type": "stream",
     "text": [
      "0.673611111111\n",
      "0.673611111111\n",
      "1.0\n",
      "0.804979253112\n"
     ]
    }
   ],
   "source": [
    "print accuracy_score(df_test.index, all_dems(df_test))\n",
    "print precision_score(df_test.index, all_dems(df_test), average='binary', pos_label='democrat')\n",
    "print recall_score(df_test.index, all_dems(df_test), pos_label='democrat')\n",
    "print f1_score(df_test.index, all_dems(df_test), pos_label='democrat')"
   ]
  },
  {
   "cell_type": "code",
   "execution_count": 30,
   "metadata": {
    "collapsed": false
   },
   "outputs": [
    {
     "name": "stdout",
     "output_type": "stream",
     "text": [
      "0.326388888889\n",
      "0.326388888889\n",
      "1.0\n",
      "0.492146596859\n"
     ]
    }
   ],
   "source": [
    "print accuracy_score(df_test.index, all_reps(df_test))\n",
    "print precision_score(df_test.index, all_reps(df_test), average='binary', pos_label='republican')\n",
    "print recall_score(df_test.index, all_reps(df_test), pos_label='republican')\n",
    "print f1_score(df_test.index, all_reps(df_test), pos_label='republican')"
   ]
  },
  {
   "cell_type": "code",
   "execution_count": 31,
   "metadata": {
    "collapsed": false
   },
   "outputs": [
    {
     "name": "stdout",
     "output_type": "stream",
     "text": [
      "0.930555555556\n",
      "0.930693069307\n",
      "0.969072164948\n",
      "0.949494949495\n"
     ]
    }
   ],
   "source": [
    "gaussian_reg = GaussianNB()\n",
    "gaussian_reg.fit(df_train.values, df_train.index)\n",
    "gaussian_test_results = gaussian_reg.predict(df_test.values)\n",
    "print accuracy_score(df_test.index, gaussian_test_results)\n",
    "print precision_score(df_test.index, gaussian_test_results, average='binary', pos_label='democrat')\n",
    "print recall_score(df_test.index, gaussian_test_results, pos_label='democrat')\n",
    "print f1_score(df_test.index, gaussian_test_results, pos_label='democrat')"
   ]
  },
  {
   "cell_type": "code",
   "execution_count": 260,
   "metadata": {
    "collapsed": false
   },
   "outputs": [
    {
     "name": "stdout",
     "output_type": "stream",
     "text": [
      "0.965277777778\n",
      "0.979166666667\n",
      "0.969072164948\n",
      "0.974093264249\n"
     ]
    }
   ],
   "source": [
    "svc_reg = SVC(probability=True)\n",
    "svc_reg.fit(df_train.values, df_train.index)\n",
    "svc_test_results = svc_reg.predict(df_test.values)\n",
    "print accuracy_score(df_test.index, svc_test_results)\n",
    "print precision_score(df_test.index, svc_test_results, average='binary', pos_label='democrat')\n",
    "print recall_score(df_test.index, svc_test_results, pos_label='democrat')\n",
    "print f1_score(df_test.index, svc_test_results, pos_label='democrat')"
   ]
  },
  {
   "cell_type": "code",
   "execution_count": 33,
   "metadata": {
    "collapsed": false
   },
   "outputs": [
    {
     "name": "stdout",
     "output_type": "stream",
     "text": [
      "0.965277777778\n",
      "0.969387755102\n",
      "0.979381443299\n",
      "0.974358974359\n"
     ]
    }
   ],
   "source": [
    "dtc_reg = DecisionTreeClassifier()\n",
    "dtc_reg.fit(df_train.values, df_train.index)\n",
    "dtc_test_results = dtc_reg.predict(df_test.values)\n",
    "print accuracy_score(df_test.index, dtc_test_results)\n",
    "print precision_score(df_test.index, dtc_test_results, average='binary', pos_label='democrat')\n",
    "print recall_score(df_test.index, dtc_test_results, pos_label='democrat')\n",
    "print f1_score(df_test.index, dtc_test_results, pos_label='democrat')"
   ]
  },
  {
   "cell_type": "code",
   "execution_count": 39,
   "metadata": {
    "collapsed": false
   },
   "outputs": [
    {
     "name": "stdout",
     "output_type": "stream",
     "text": [
      "0.951388888889\n",
      "0.95\n",
      "0.979381443299\n",
      "0.964467005076\n"
     ]
    }
   ],
   "source": [
    "rfc_reg = RandomForestClassifier()\n",
    "rfc_reg.fit(df_train.values, df_train.index)\n",
    "rfc_test_results = rfc_reg.predict(df_test.values)\n",
    "print accuracy_score(df_test.index, rfc_test_results)\n",
    "print precision_score(df_test.index, rfc_test_results, average='binary', pos_label='democrat')\n",
    "print recall_score(df_test.index, rfc_test_results, pos_label='democrat')\n",
    "print f1_score(df_test.index, rfc_test_results, pos_label='democrat')"
   ]
  },
  {
   "cell_type": "markdown",
   "metadata": {},
   "source": [
    "#### Challenge 2\n",
    "\n",
    "For each, draw the ROC curve and calculate the AUC."
   ]
  },
  {
   "cell_type": "code",
   "execution_count": 81,
   "metadata": {
    "collapsed": true
   },
   "outputs": [],
   "source": [
    "from sklearn.metrics import roc_curve\n",
    "from sklearn.metrics import auc"
   ]
  },
  {
   "cell_type": "code",
   "execution_count": 206,
   "metadata": {
    "collapsed": false
   },
   "outputs": [
    {
     "name": "stdout",
     "output_type": "stream",
     "text": [
      "KNN AUC is 0.95547269138\n"
     ]
    },
    {
     "data": {
      "image/png": "[encoded data removed]",
      "text/plain": [
       "<matplotlib.figure.Figure at 0x109e5d850>"
      ]
     },
     "metadata": {},
     "output_type": "display_data"
    }
   ],
   "source": [
    "probabilities = neigh.fit(df_train.values, df_train.index).predict_proba(df_test.values)\n",
    "fpr, tpr, thresholds = roc_curve(df_test.index, probabilities[:, 0], pos_label='democrat')\n",
    "roc_auc = auc(fpr, tpr)\n",
    "plt.plot(fpr, tpr)\n",
    "print(\"KNN AUC is {0}\".format(roc_auc))"
   ]
  },
  {
   "cell_type": "code",
   "execution_count": 205,
   "metadata": {
    "collapsed": false
   },
   "outputs": [
    {
     "name": "stdout",
     "output_type": "stream",
     "text": [
      "logistic_reg AUC is 0.995393726694\n"
     ]
    },
    {
     "data": {
      "image/png": "[encoded data removed]",
      "text/plain": [
       "<matplotlib.figure.Figure at 0x109d44990>"
      ]
     },
     "metadata": {},
     "output_type": "display_data"
    }
   ],
   "source": [
    "probabilities = logistic_reg.fit(df_train.values, df_train.index).predict_proba(df_test.values)\n",
    "fpr, tpr, thresholds = roc_curve(df_test.index, probabilities[:, 0], pos_label='democrat')\n",
    "roc_auc = auc(fpr, tpr)\n",
    "plt.plot(fpr, tpr)\n",
    "print(\"logistic_reg AUC is {0}\".format(roc_auc))\n"
   ]
  },
  {
   "cell_type": "code",
   "execution_count": 204,
   "metadata": {
    "collapsed": false
   },
   "outputs": [
    {
     "name": "stdout",
     "output_type": "stream",
     "text": [
      "gaussian_reg AUC is 0.949989032683\n"
     ]
    },
    {
     "data": {
      "image/png": "[encoded data removed]",
      "text/plain": [
       "<matplotlib.figure.Figure at 0x109ddb450>"
      ]
     },
     "metadata": {},
     "output_type": "display_data"
    }
   ],
   "source": [
    "probabilities = gaussian_reg.fit(df_train.values, df_train.index).predict_proba(df_test.values)\n",
    "fpr, tpr, thresholds = roc_curve(df_test.index, probabilities[:, 0], pos_label='democrat')\n",
    "roc_auc = auc(fpr, tpr)\n",
    "plt.plot(fpr, tpr)\n",
    "print(\"gaussian_reg AUC is {0}\".format(roc_auc))"
   ]
  },
  {
   "cell_type": "code",
   "execution_count": 261,
   "metadata": {
    "collapsed": false
   },
   "outputs": [
    {
     "name": "stdout",
     "output_type": "stream",
     "text": [
      "svc_reg AUC is 0.0026321561746\n"
     ]
    },
    {
     "data": {
      "image/png": "[encoded data removed]",
      "text/plain": [
       "<matplotlib.figure.Figure at 0x109ddba90>"
      ]
     },
     "metadata": {},
     "output_type": "display_data"
    }
   ],
   "source": [
    "svc_reg.fit(df_train.values, df_train.index)\n",
    "probabilities = svc_reg.fit(df_train.values, df_train.index).predict_proba(df_test.values)\n",
    "fpr, tpr, thresholds = roc_curve(df_test.index, probabilities[:, 1], pos_label='democrat')\n",
    "roc_auc = auc(fpr, tpr)\n",
    "plt.plot(fpr, tpr)\n",
    "print(\"svc_reg AUC is {0}\".format(roc_auc))"
   ]
  },
  {
   "cell_type": "code",
   "execution_count": 207,
   "metadata": {
    "collapsed": false
   },
   "outputs": [
    {
     "name": "stdout",
     "output_type": "stream",
     "text": [
      "dtc_reg AUC is 0.957775828032\n"
     ]
    },
    {
     "data": {
      "image/png": "[encoded data removed]",
      "text/plain": [
       "<matplotlib.figure.Figure at 0x109880810>"
      ]
     },
     "metadata": {},
     "output_type": "display_data"
    }
   ],
   "source": [
    "probabilities = dtc_reg.fit(df_train.values, df_train.index).predict_proba(df_test.values)\n",
    "fpr, tpr, thresholds = roc_curve(df_test.index, probabilities[:, 0], pos_label='democrat')\n",
    "roc_auc = auc(fpr, tpr)\n",
    "plt.plot(fpr, tpr)\n",
    "print(\"dtc_reg AUC is {0}\".format(roc_auc))"
   ]
  },
  {
   "cell_type": "code",
   "execution_count": 209,
   "metadata": {
    "collapsed": false
   },
   "outputs": [
    {
     "name": "stdout",
     "output_type": "stream",
     "text": [
      "rfc_reg AUC is 0.99330993639\n"
     ]
    },
    {
     "data": {
      "image/png": "[encoded data removed]",
      "text/plain": [
       "<matplotlib.figure.Figure at 0x10a719f10>"
      ]
     },
     "metadata": {},
     "output_type": "display_data"
    }
   ],
   "source": [
    "probabilities = rfc_reg.fit(df_train.values, df_train.index).predict_proba(df_test.values)\n",
    "fpr, tpr, thresholds = roc_curve(df_test.index, probabilities[:, 0], pos_label='democrat')\n",
    "roc_auc = auc(fpr, tpr)\n",
    "plt.plot(fpr, tpr)\n",
    "print(\"rfc_reg AUC is {0}\".format(roc_auc))"
   ]
  },
  {
   "cell_type": "markdown",
   "metadata": {},
   "source": [
    "#### Challenge 3\n",
    "\n",
    "Calculate the same metrics you did in challenge 1, but this time in a cross validation scheme with the `cross_val_score` function (like in Challenge 9)"
   ]
  },
  {
   "cell_type": "code",
   "execution_count": 254,
   "metadata": {
    "collapsed": false
   },
   "outputs": [
    {
     "name": "stdout",
     "output_type": "stream",
     "text": [
      "0.933333333333\n",
      "0.961371867646\n",
      "0.928838951311\n",
      "0.944804199632\n"
     ]
    }
   ],
   "source": [
    "from sklearn.cross_validation import cross_val_score\n",
    "X=df.values\n",
    "y=df.index\n",
    "print np.mean(cross_val_score(KNeighborsClassifier(), X, y, scoring='accuracy'))\n",
    "print np.mean(cross_val_score(KNeighborsClassifier(), X, y=='democrat', scoring='precision'))\n",
    "print np.mean(cross_val_score(KNeighborsClassifier(), X, y=='democrat', scoring='recall'))\n",
    "print np.mean(cross_val_score(KNeighborsClassifier(), X, y=='democrat', scoring='f1'))"
   ]
  },
  {
   "cell_type": "code",
   "execution_count": 223,
   "metadata": {
    "collapsed": false
   },
   "outputs": [
    {
     "name": "stdout",
     "output_type": "stream",
     "text": [
      "0.96091954023\n",
      "0.970163331033\n",
      "0.966292134831\n",
      "0.967864264228\n"
     ]
    }
   ],
   "source": [
    "print np.mean(cross_val_score(LogisticRegression(), X, y, scoring='accuracy'))\n",
    "print np.mean(cross_val_score(LogisticRegression(), X, y=='democrat', scoring='precision'))\n",
    "print np.mean(cross_val_score(LogisticRegression(), X, y=='democrat', scoring='recall'))\n",
    "print np.mean(cross_val_score(LogisticRegression(), X, y=='democrat', scoring='f1'))"
   ]
  },
  {
   "cell_type": "code",
   "execution_count": 256,
   "metadata": {
    "collapsed": false
   },
   "outputs": [
    {
     "name": "stdout",
     "output_type": "stream",
     "text": [
      "0.931034482759\n",
      "0.948219376539\n",
      "0.940074906367\n",
      "0.943525081974\n"
     ]
    }
   ],
   "source": [
    "print np.mean(cross_val_score(GaussianNB(), X, y, scoring='accuracy'))\n",
    "print np.mean(cross_val_score(GaussianNB(), X, y=='democrat', scoring='precision'))\n",
    "print np.mean(cross_val_score(GaussianNB(), X, y=='democrat', scoring='recall'))\n",
    "print np.mean(cross_val_score(GaussianNB(), X, y=='democrat', scoring='f1'))"
   ]
  },
  {
   "cell_type": "code",
   "execution_count": 255,
   "metadata": {
    "collapsed": false
   },
   "outputs": [
    {
     "name": "stdout",
     "output_type": "stream",
     "text": [
      "0.954022988506\n",
      "0.977123246718\n",
      "0.947565543071\n",
      "0.961803989438\n"
     ]
    }
   ],
   "source": [
    "print np.mean(cross_val_score(SVC(), X, y, scoring='accuracy'))\n",
    "print np.mean(cross_val_score(SVC(), X, y=='democrat', scoring='precision'))\n",
    "print np.mean(cross_val_score(SVC(), X, y=='democrat', scoring='recall'))\n",
    "print np.mean(cross_val_score(SVC(), X, y=='democrat', scoring='f1'))"
   ]
  },
  {
   "cell_type": "code",
   "execution_count": 259,
   "metadata": {
    "collapsed": false
   },
   "outputs": [
    {
     "name": "stdout",
     "output_type": "stream",
     "text": [
      "0.958620689655\n",
      "0.988368910783\n",
      "0.943820224719\n",
      "0.961944121572\n"
     ]
    }
   ],
   "source": [
    "print np.mean(cross_val_score(RandomForestClassifier(), X, y, scoring='accuracy'))\n",
    "print np.mean(cross_val_score(RandomForestClassifier(), X, y=='democrat', scoring='precision'))\n",
    "print np.mean(cross_val_score(RandomForestClassifier(), X, y=='democrat', scoring='recall'))\n",
    "print np.mean(cross_val_score(RandomForestClassifier(), X, y=='democrat', scoring='f1'))"
   ]
  },
  {
   "cell_type": "markdown",
   "metadata": {},
   "source": [
    "#### Challenge 4\n",
    "\n",
    "For your movie classifiers, calculate the precision and recall for each class."
   ]
  },
  {
   "cell_type": "markdown",
   "metadata": {},
   "source": [
    "#OH GOD NOT MORE MOVIES"
   ]
  },
  {
   "cell_type": "code",
   "execution_count": 262,
   "metadata": {
    "collapsed": true
   },
   "outputs": [],
   "source": [
    "movies_df = pd.DataFrame.from_csv(\"2013_movies.csv\", infer_datetime_format=True)"
   ]
  },
  {
   "cell_type": "code",
   "execution_count": 263,
   "metadata": {
    "collapsed": true
   },
   "outputs": [],
   "source": [
    "movies_df.replace(['G','PG','PG-13','R'], [1,2,3,4], inplace=True)"
   ]
  },
  {
   "cell_type": "code",
   "execution_count": 265,
   "metadata": {
    "collapsed": true
   },
   "outputs": [],
   "source": [
    "movies_df = movies_df.dropna()"
   ]
  },
  {
   "cell_type": "code",
   "execution_count": 266,
   "metadata": {
    "collapsed": true
   },
   "outputs": [],
   "source": [
    "movies_train, movies_test = train_test_split(movies_df, test_size=0.33, random_state=42)"
   ]
  },
  {
   "cell_type": "code",
   "execution_count": 274,
   "metadata": {
    "collapsed": false
   },
   "outputs": [
    {
     "name": "stdout",
     "output_type": "stream",
     "text": [
      "0.51724137931\n",
      "[ 0.          0.57142857  0.375     ]\n",
      "[ 0.    0.75  0.3 ]\n"
     ]
    }
   ],
   "source": [
    "logistic_reg = LogisticRegression()\n",
    "logistic_reg.fit(movies_train[['DomesticTotalGross', 'Budget', 'Runtime']].values, movies_train.Rating.values) \n",
    "log_test_results = logistic_reg.predict(movies_test[['DomesticTotalGross', 'Budget', 'Runtime']].values)\n",
    "print accuracy_score(movies_test.Rating, log_test_results)\n",
    "print precision_score(movies_test.Rating, log_test_results, average=None)\n",
    "print recall_score(movies_test.Rating, log_test_results, average=None)"
   ]
  },
  {
   "cell_type": "markdown",
   "metadata": {},
   "source": [
    "#### Challenge 5\n",
    "\n",
    "Draw the ROC curve (and calculate AUC) for the logistic regression classifier from challenge 12."
   ]
  },
  {
   "cell_type": "code",
   "execution_count": 279,
   "metadata": {
    "collapsed": true
   },
   "outputs": [],
   "source": [
    "haberman_df = pd.DataFrame.from_csv('haberman.data.txt', header=-1, infer_datetime_format=True)"
   ]
  },
  {
   "cell_type": "code",
   "execution_count": 280,
   "metadata": {
    "collapsed": false
   },
   "outputs": [],
   "source": [
    "haberman_df = haberman_df.reset_index()\n",
    "haberman_df.columns = ['age','year_of_op','nodes','survival']"
   ]
  },
  {
   "cell_type": "code",
   "execution_count": 300,
   "metadata": {
    "collapsed": false
   },
   "outputs": [],
   "source": [
    "haberman_train, haberman_test = train_test_split(haberman_df, test_size=0.33, random_state=42)\n",
    "\n",
    "haberman_log_reg = LogisticRegression()\n",
    "haberman_fit = haberman_log_reg.fit(haberman_train[['age','year_of_op','nodes']].values, haberman_train.survival.values)"
   ]
  },
  {
   "cell_type": "code",
   "execution_count": 312,
   "metadata": {
    "collapsed": false
   },
   "outputs": [
    {
     "name": "stdout",
     "output_type": "stream",
     "text": [
      "[[ 0.74344169  0.25655831]\n",
      " [ 0.82753244  0.17246756]\n",
      " [ 0.79584859  0.20415141]\n",
      " [ 0.78330897  0.21669103]\n",
      " [ 0.86449649  0.13550351]\n",
      " [ 0.27663837  0.72336163]\n",
      " [ 0.79062554  0.20937446]\n",
      " [ 0.80988829  0.19011171]\n",
      " [ 0.56994059  0.43005941]\n",
      " [ 0.83321906  0.16678094]\n",
      " [ 0.70610992  0.29389008]\n",
      " [ 0.85290934  0.14709066]\n",
      " [ 0.87819639  0.12180361]\n",
      " [ 0.42522237  0.57477763]\n",
      " [ 0.84561596  0.15438404]\n",
      " [ 0.82538592  0.17461408]\n",
      " [ 0.82896526  0.17103474]\n",
      " [ 0.82463833  0.17536167]\n",
      " [ 0.56292121  0.43707879]\n",
      " [ 0.75135529  0.24864471]\n",
      " [ 0.73698594  0.26301406]\n",
      " [ 0.7875288   0.2124712 ]\n",
      " [ 0.76151766  0.23848234]\n",
      " [ 0.81827864  0.18172136]\n",
      " [ 0.75260705  0.24739295]\n",
      " [ 0.79254103  0.20745897]\n",
      " [ 0.84607803  0.15392197]\n",
      " [ 0.76967487  0.23032513]\n",
      " [ 0.67415365  0.32584635]\n",
      " [ 0.75818924  0.24181076]\n",
      " [ 0.83156089  0.16843911]\n",
      " [ 0.45904678  0.54095322]\n",
      " [ 0.81624516  0.18375484]\n",
      " [ 0.87103396  0.12896604]\n",
      " [ 0.90129837  0.09870163]\n",
      " [ 0.70042922  0.29957078]\n",
      " [ 0.83320702  0.16679298]\n",
      " [ 0.83962406  0.16037594]\n",
      " [ 0.56341097  0.43658903]\n",
      " [ 0.80071421  0.19928579]\n",
      " [ 0.4824855   0.5175145 ]\n",
      " [ 0.83367287  0.16632713]\n",
      " [ 0.31781034  0.68218966]\n",
      " [ 0.798285    0.201715  ]\n",
      " [ 0.85810265  0.14189735]\n",
      " [ 0.78922453  0.21077547]\n",
      " [ 0.75598667  0.24401333]\n",
      " [ 0.83320702  0.16679298]\n",
      " [ 0.72141841  0.27858159]\n",
      " [ 0.73698594  0.26301406]\n",
      " [ 0.38248145  0.61751855]\n",
      " [ 0.72343818  0.27656182]\n",
      " [ 0.79612889  0.20387111]\n",
      " [ 0.85458601  0.14541399]\n",
      " [ 0.77201539  0.22798461]\n",
      " [ 0.45657055  0.54342945]\n",
      " [ 0.66566583  0.33433417]\n",
      " [ 0.7529283   0.2470717 ]\n",
      " [ 0.64211872  0.35788128]\n",
      " [ 0.77201539  0.22798461]\n",
      " [ 0.78781749  0.21218251]\n",
      " [ 0.67929477  0.32070523]\n",
      " [ 0.68944672  0.31055328]\n",
      " [ 0.72211169  0.27788831]\n",
      " [ 0.49588499  0.50411501]\n",
      " [ 0.79746543  0.20253457]\n",
      " [ 0.475806    0.524194  ]\n",
      " [ 0.83180253  0.16819747]\n",
      " [ 0.86703814  0.13296186]\n",
      " [ 0.69976202  0.30023798]\n",
      " [ 0.88226163  0.11773837]\n",
      " [ 0.59967288  0.40032712]\n",
      " [ 0.28230166  0.71769834]\n",
      " [ 0.82173365  0.17826635]\n",
      " [ 0.75289425  0.24710575]\n",
      " [ 0.82633798  0.17366202]\n",
      " [ 0.80807999  0.19192001]\n",
      " [ 0.39281852  0.60718148]\n",
      " [ 0.79116539  0.20883461]\n",
      " [ 0.76634433  0.23365567]\n",
      " [ 0.77930926  0.22069074]\n",
      " [ 0.78949632  0.21050368]\n",
      " [ 0.86547122  0.13452878]\n",
      " [ 0.6140453   0.3859547 ]\n",
      " [ 0.84929894  0.15070106]\n",
      " [ 0.36137391  0.63862609]\n",
      " [ 0.79908739  0.20091261]\n",
      " [ 0.87009348  0.12990652]\n",
      " [ 0.76062683  0.23937317]\n",
      " [ 0.60887107  0.39112893]\n",
      " [ 0.78129964  0.21870036]\n",
      " [ 0.58792037  0.41207963]\n",
      " [ 0.81901881  0.18098119]\n",
      " [ 0.87639952  0.12360048]\n",
      " [ 0.85271627  0.14728373]\n",
      " [ 0.75478032  0.24521968]\n",
      " [ 0.76151766  0.23848234]\n",
      " [ 0.82777866  0.17222134]\n",
      " [ 0.81852085  0.18147915]\n",
      " [ 0.73698594  0.26301406]\n",
      " [ 0.83344677  0.16655323]]\n"
     ]
    }
   ],
   "source": [
    "probabilities = haberman_fit.predict_proba(haberman_test[['age','year_of_op','nodes']].values)\n",
    "\n",
    "print probabilities[:]"
   ]
  },
  {
   "cell_type": "code",
   "execution_count": 316,
   "metadata": {
    "collapsed": false
   },
   "outputs": [
    {
     "name": "stdout",
     "output_type": "stream",
     "text": [
      "Haberman LogReg AUC is 0.621121121121\n"
     ]
    },
    {
     "data": {
      "image/png": "[encoded data removed]",
      "text/plain": [
       "<matplotlib.figure.Figure at 0x109e8ff90>"
      ]
     },
     "metadata": {},
     "output_type": "display_data"
    }
   ],
   "source": [
    "probabilities = haberman_fit.predict_proba(haberman_test[['age','year_of_op','nodes']].values)\n",
    "fpr, tpr, thresholds = roc_curve(haberman_test.survival.values, probabilities[:, 0], pos_label=1)\n",
    "roc_auc = auc(fpr, tpr)\n",
    "plt.plot(fpr, tpr)\n",
    "print(\"Haberman LogReg AUC is {0}\".format(roc_auc))"
   ]
  }
 ],
 "metadata": {
  "kernelspec": {
   "display_name": "Python 2",
   "language": "python",
   "name": "python2"
  },
  "language_info": {
   "codemirror_mode": {
    "name": "ipython",
    "version": 2
   },
   "file_extension": ".py",
   "mimetype": "text/x-python",
   "name": "python",
   "nbconvert_exporter": "python",
   "pygments_lexer": "ipython2",
   "version": "2.7.9"
  }
 },
 "nbformat": 4,
 "nbformat_minor": 0
}
